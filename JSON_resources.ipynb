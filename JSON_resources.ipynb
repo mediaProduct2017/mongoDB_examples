{
 "cells": [
  {
   "cell_type": "markdown",
   "metadata": {},
   "source": [
    "额外信息\n",
    "如果你不熟悉 JSON，或者你是位初学者，W3Schools 上有相关的优秀教程。\n",
    "\n",
    "[JSON教程](https://www.w3schools.com/js/js_json_intro.asp)\n",
    "\n",
    "你还可以访问：\n",
    "\n",
    "http://www.json.org/\n"
   ]
  }
 ],
 "metadata": {
  "kernelspec": {
   "display_name": "Python 3",
   "language": "python",
   "name": "python3"
  },
  "language_info": {
   "codemirror_mode": {
    "name": "ipython",
    "version": 3
   },
   "file_extension": ".py",
   "mimetype": "text/x-python",
   "name": "python",
   "nbconvert_exporter": "python",
   "pygments_lexer": "ipython3",
   "version": "3.6.2"
  }
 },
 "nbformat": 4,
 "nbformat_minor": 2
}
